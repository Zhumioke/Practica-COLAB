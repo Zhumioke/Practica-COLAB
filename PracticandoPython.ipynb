{
  "nbformat": 4,
  "nbformat_minor": 0,
  "metadata": {
    "colab": {
      "provenance": [],
      "authorship_tag": "ABX9TyNYmEkuujE2ABpjJHQk55Jo",
      "include_colab_link": true
    },
    "kernelspec": {
      "name": "python3",
      "display_name": "Python 3"
    },
    "language_info": {
      "name": "python"
    }
  },
  "cells": [
    {
      "cell_type": "markdown",
      "metadata": {
        "id": "view-in-github",
        "colab_type": "text"
      },
      "source": [
        "<a href=\"https://colab.research.google.com/github/Zhumioke/Practica-COLAB/blob/main/PracticandoPython.ipynb\" target=\"_parent\"><img src=\"https://colab.research.google.com/assets/colab-badge.svg\" alt=\"Open In Colab\"/></a>"
      ]
    },
    {
      "cell_type": "code",
      "execution_count": null,
      "metadata": {
        "colab": {
          "base_uri": "https://localhost:8080/"
        },
        "id": "qrtX_12oioC5",
        "outputId": "44a5361c-d23a-496b-8609-d2018ae30518"
      },
      "outputs": [
        {
          "output_type": "stream",
          "name": "stdout",
          "text": [
            "Escriba su nombre: Elmer\n",
            "Hola Elmer.\n"
          ]
        }
      ],
      "source": [
        "#1.-Crea un programa que solicite al usuario que escriba su nombre y luego imprima \"Hola, [nombre].\"\n",
        "nombreu=input(\"Escriba su nombre: \")\n",
        "print(\"Hola {}.\" .format(nombreu))"
      ]
    },
    {
      "cell_type": "code",
      "source": [
        "#2 - Crea un programa que solicite al usuario que escriba su nombre y edad, y luego imprima \"Hola, [nombre], tienes [edad] años.\"\n",
        "nombre=input(\"Escriba su nombre por favor:\")\n",
        "edad=input(\"Escriba su edad por favor:\")\n",
        "print(f'Hola {nombre}, tienes {edad} años.')"
      ],
      "metadata": {
        "colab": {
          "base_uri": "https://localhost:8080/"
        },
        "id": "IzKA00-Dl2XD",
        "outputId": "1577f059-4305-4381-82bc-2fdd2bde5352"
      },
      "execution_count": null,
      "outputs": [
        {
          "output_type": "stream",
          "name": "stdout",
          "text": [
            "Escriba su nombre por favor:Felipe\n",
            "Escriba su edad por favor:11\n",
            "Hola Felipe, tienes 11 años.\n"
          ]
        }
      ]
    },
    {
      "cell_type": "code",
      "source": [
        "#3 - Crea un programa que solicite al usuario que escriba su nombre, edad y altura en metros, y luego imprima \"Hola, [nombre], tienes [edad] años y mides [altura] metros.\n",
        "nombre=input(\" Escriba su nombre por favor:\")\n",
        "edad=input(\" Escriba su edad por favor:\")\n",
        "altura=input(\" Escriba su altura en metros por favor:\")\n",
        "print(f\"\\tHola,{nombre},\\n\\ttienes{edad}años y\\n\\tmides {altura} metros.\")\n"
      ],
      "metadata": {
        "colab": {
          "base_uri": "https://localhost:8080/"
        },
        "id": "-npObA3ln6w6",
        "outputId": "f7f95365-dabb-4bd4-992c-7f8fad1ef868"
      },
      "execution_count": null,
      "outputs": [
        {
          "output_type": "stream",
          "name": "stdout",
          "text": [
            " Escriba su nombre por favor:Felipe\n",
            " Escriba su edad por favor:34\n",
            " Escriba su altura en metros por favor:1.65\n",
            "\tHola,Felipe,\n",
            "\ttienes34años y\n",
            "\tmides 1.65 metros.\n"
          ]
        }
      ]
    },
    {
      "cell_type": "code",
      "source": [
        "#Calculadora con operadores\n",
        "#4 - Crea un programa que solicite dos valores numéricos al usuario y luego imprima la suma de ambos valores.\n",
        "a = int(input('Ingrese el primer valor: '))\n",
        "b = int(input('Ingrese el segundo valor: '))\n",
        "print(a + b)\n",
        "\n"
      ],
      "metadata": {
        "colab": {
          "base_uri": "https://localhost:8080/"
        },
        "id": "CPPRBqwo9iXW",
        "outputId": "103ff00a-4b2e-4c78-823a-c1e80cc70450"
      },
      "execution_count": null,
      "outputs": [
        {
          "output_type": "stream",
          "name": "stdout",
          "text": [
            "Ingrese el primer valor: 6\n",
            "Ingrese el segundo valor: 6\n",
            "12\n"
          ]
        }
      ]
    },
    {
      "cell_type": "code",
      "source": [
        "num1=int(input(\"Ingrese el primer valor: \"))\n",
        "num2=int(input(\"Ingrese el segundo valor: \"))\n",
        "print(num1+num2)"
      ],
      "metadata": {
        "colab": {
          "base_uri": "https://localhost:8080/"
        },
        "id": "PE6d7EDU96N4",
        "outputId": "7409ac90-b59a-47c5-c276-61970342dc56"
      },
      "execution_count": null,
      "outputs": [
        {
          "output_type": "stream",
          "name": "stdout",
          "text": [
            "Ingrese el primer valor: 8\n",
            "Ingrese el segundo valor: 9\n",
            "17\n"
          ]
        }
      ]
    },
    {
      "cell_type": "code",
      "source": [
        "num1=input(\"Ingrese el valor 1:\")\n",
        "num2=input(\"Ingrese el valor 2:\")\n",
        "print(int(num1)+int(num2))\n"
      ],
      "metadata": {
        "colab": {
          "base_uri": "https://localhost:8080/"
        },
        "id": "K29PteG--B1Y",
        "outputId": "7c99fb32-75be-4bb6-d729-2b8f9dbdb05d"
      },
      "execution_count": null,
      "outputs": [
        {
          "output_type": "stream",
          "name": "stdout",
          "text": [
            "Ingrese el valor 1:1\n",
            "Ingrese el valor 2:1\n",
            "2\n"
          ]
        }
      ]
    },
    {
      "cell_type": "markdown",
      "source": [],
      "metadata": {
        "id": "BKkF4N-8-t47"
      }
    },
    {
      "cell_type": "code",
      "source": [
        "valor1=input(\"Ingresar valor 1:\")\n",
        "valor2=input(\"Ingresar valor 2:\")\n",
        "valor1=int(valor1)\n",
        "valor2=int(valor2)\n",
        "print(f\"la suma de {valor1}+{valor2} es :{valor1+valor2}\")"
      ],
      "metadata": {
        "colab": {
          "base_uri": "https://localhost:8080/"
        },
        "id": "rXmoJq4G-v2p",
        "outputId": "0adf2e69-2021-4203-bcab-8d5b50c2357b"
      },
      "execution_count": null,
      "outputs": [
        {
          "output_type": "stream",
          "name": "stdout",
          "text": [
            "Ingresar valor 1:123456789\n",
            "Ingresar valor 2:657490\n",
            "la suma de 123456789+657490 es :124114279\n"
          ]
        }
      ]
    },
    {
      "cell_type": "code",
      "source": [
        "#5 - Crea un programa que solicite tres valores numéricos al usuario y luego imprima la suma de los tres valores.\n",
        "a=int(input(\"Ingrese el primer valor:\"))\n",
        "b=int(input(\"Ingrese el segundo valor:\"))\n",
        "c=int(input(\"ingrese el tercer valor\"))\n",
        "sumas=a+b+c\n",
        "print(f\"La suma es:{sumas}\")"
      ],
      "metadata": {
        "colab": {
          "base_uri": "https://localhost:8080/"
        },
        "id": "GzK340BoAqXt",
        "outputId": "cb431c0c-45cb-46d0-c881-b341275bb5e4"
      },
      "execution_count": null,
      "outputs": [
        {
          "output_type": "stream",
          "name": "stdout",
          "text": [
            "Ingrese el primer valor:6\n",
            "Ingrese el segundo valor:87\n",
            "ingrese el tercer valor9\n",
            "La suma es:102\n"
          ]
        }
      ]
    },
    {
      "cell_type": "code",
      "source": [
        "#6 - Crea un programa que solicite dos valores numéricos al usuario y luego imprima la resta del primero menos el segundo valor.\n",
        "valor1=int(input(\"Ingresa Valor 1:\"))\n",
        "valor2=int(input(\"Ingresa Valor 2:\"))\n",
        "print(f\"La resta es: {valor1-valor2}\")\n"
      ],
      "metadata": {
        "colab": {
          "base_uri": "https://localhost:8080/"
        },
        "id": "FFWgccTzDC5O",
        "outputId": "3f369127-55dc-48ad-e4f1-52c5f05f219d"
      },
      "execution_count": null,
      "outputs": [
        {
          "output_type": "stream",
          "name": "stdout",
          "text": [
            "Ingresa Valor 1:7\n",
            "Ingresa Valor 2:9\n",
            "La resta es: -2\n"
          ]
        }
      ]
    },
    {
      "cell_type": "code",
      "source": [
        "#7 - Crea un programa que solicite dos valores numéricos al usuario y luego imprima la multiplicación de los dos valores.\n",
        "valor1=int(input(\"Ingresa Valor 1:\"))\n",
        "valor2=int(input(\"Ingresa Valor 2: \"))\n",
        "print(f\"El producto es: {valor1*valor2}\")"
      ],
      "metadata": {
        "colab": {
          "base_uri": "https://localhost:8080/"
        },
        "id": "QbldCVrxECes",
        "outputId": "3d63eba9-6300-4f12-f1c7-d59d31be5452"
      },
      "execution_count": null,
      "outputs": [
        {
          "output_type": "stream",
          "name": "stdout",
          "text": [
            "Ingresa Valor 1:5\n",
            "Ingresa Valor 2: 8\n",
            "El producto es: 40\n"
          ]
        }
      ]
    },
    {
      "cell_type": "code",
      "source": [
        "#8 - Crea un programa que solicite dos valores numéricos, un numerador y un denominador,\n",
        "# y realice la división entre los dos valores. Asegúrate de que el valor del denominador no sea igual a 0.\n",
        "num1=int(input(\"Ingrese el numero:\"))\n",
        "num2=int(input(\"Ingrese el otro numero que no sea CERO:\"))\n",
        "print(f\"La division es: {num1/num2}\")"
      ],
      "metadata": {
        "colab": {
          "base_uri": "https://localhost:8080/"
        },
        "id": "zYSFUAZGFPeX",
        "outputId": "602926a8-9496-44d8-f4fb-432c5320f1fc"
      },
      "execution_count": null,
      "outputs": [
        {
          "output_type": "stream",
          "name": "stdout",
          "text": [
            "Ingrese el numero:16\n",
            "Ingrese el otro numero que no sea CERO:4\n",
            "La division es: 4.0\n"
          ]
        }
      ]
    },
    {
      "cell_type": "code",
      "source": [
        "#9 - Crea un programa que solicite dos valores numéricos, un operador y una potencia, y realice la exponenciación entre estos dos valores.\n",
        "operador=int(input(\"Ingresar el primer valor que sera operador: \"))\n",
        "potencia=int(input(\"Ingresar el segundo valor que sera potencia:\"))\n",
        "print(f\"El resultado es: {operador ** potencia}\")"
      ],
      "metadata": {
        "colab": {
          "base_uri": "https://localhost:8080/"
        },
        "id": "VD1bKKljGI7M",
        "outputId": "4a6cd547-0c3b-4e40-9f6f-fec7b643d58a"
      },
      "execution_count": null,
      "outputs": [
        {
          "output_type": "stream",
          "name": "stdout",
          "text": [
            "Ingresar el primer valor que sera operador: 5\n",
            "Ingresar el segundo valor que sera potencia:6\n",
            "El resultado es: 15625\n"
          ]
        }
      ]
    },
    {
      "cell_type": "code",
      "source": [
        "#10 - Crea un programa que solicite dos valores numéricos, un numerador y un denominador,\n",
        "#y realice la división entera entre los dos valores. Asegúrate de que el valor del denominador no sea igual a 0.\n",
        "numerador=int(input(\"Ingresar el primer valor que sera numerador:\"))\n",
        "denominador=int(input(\"Ingresar el segundo valor que sera denominador no debe ser CERO:\"))\n",
        "print(f\"El resultado es: {numerador//denominador}\")"
      ],
      "metadata": {
        "colab": {
          "base_uri": "https://localhost:8080/"
        },
        "id": "TvwYKEfpHoHb",
        "outputId": "7820671e-c00c-4890-b159-ae993fa121ff"
      },
      "execution_count": null,
      "outputs": [
        {
          "output_type": "stream",
          "name": "stdout",
          "text": [
            "Ingresar el primer valor que sera numerador:81\n",
            "Ingresar el segundo valor que sera denominador no debe ser CERO:9\n",
            "El resultado es: 9\n"
          ]
        }
      ]
    },
    {
      "cell_type": "code",
      "source": [
        "#11 - Crea un programa que solicite dos valores numéricos, un numerador y un denominador, y devuelva el resto de la división entre los dos valores.\n",
        "#Asegúrate de que el valor del denominador no sea igual a 0.\n",
        "num=int(input(\"ingresa el primer valor numerador:\"))\n",
        "den=int(input(\"ingresa el segundo valor denominador\"))\n",
        "print(f\"El resulado es:{num%den} \")\n"
      ],
      "metadata": {
        "colab": {
          "base_uri": "https://localhost:8080/"
        },
        "id": "-r5Vkdhxuei1",
        "outputId": "bbc4f0b7-0bcf-436c-cd6c-8d006c064d54"
      },
      "execution_count": null,
      "outputs": [
        {
          "output_type": "stream",
          "name": "stdout",
          "text": [
            "ingresa el primer valor numerador:53\n",
            "ingresa el segundo valor denominador6\n",
            "El resulado es:5 \n"
          ]
        }
      ]
    },
    {
      "cell_type": "code",
      "source": [
        "#12 - Crea un código que solicite las 3 notas de un estudiante e imprima el promedio de las notas.\n",
        "nota1=float(input(\"Ingresar primera nota:\"))\n",
        "nota2=float(input(\"Ingresar segunda nota:\"))\n",
        "nota3=float(input(\"ingresar tercera nota:\"))\n",
        "promedio=(nota1+nota2+nota3)/3\n",
        "print(f\"EL promedio de las notas es:{promedio:.2f}\")"
      ],
      "metadata": {
        "colab": {
          "base_uri": "https://localhost:8080/"
        },
        "id": "tfZFdq2Bufb5",
        "outputId": "6ac28f06-dad5-42db-a3a5-0150ca04438e"
      },
      "execution_count": null,
      "outputs": [
        {
          "output_type": "stream",
          "name": "stdout",
          "text": [
            "Ingresar primera nota:4.5\n",
            "Ingresar segunda nota:6.1\n",
            "ingresar tercera nota:4.2\n",
            "EL promedio de las notas es:4.93\n"
          ]
        }
      ]
    },
    {
      "cell_type": "code",
      "source": [
        "#13 - Crea un código que calcule e imprima el promedio ponderado de los números 5, 12, 20 y 15 con pesos respectivamente iguales a 1, 2, 3 y 4.\n",
        "promedio=(5*1+12*2+20*3+15*4)/10\n",
        "print(f\"El promedio ponderado es:{promedio:.2f}\")"
      ],
      "metadata": {
        "colab": {
          "base_uri": "https://localhost:8080/"
        },
        "id": "pS-iooX318fo",
        "outputId": "69be807c-af66-4c91-db8e-831d14911e42"
      },
      "execution_count": null,
      "outputs": [
        {
          "output_type": "stream",
          "name": "stdout",
          "text": [
            "El promedio ponderado es:14.90\n"
          ]
        }
      ]
    },
    {
      "cell_type": "code",
      "source": [
        "#Editando textos\n",
        "#14 - Crea una variable llamada \"frase\" y asígnale una cadena de texto de tu elección. Luego, imprime la frase en pantalla.\n",
        "mensaje=\"Hola mi mundo\"\n",
        "print(mensaje)"
      ],
      "metadata": {
        "colab": {
          "base_uri": "https://localhost:8080/"
        },
        "id": "14Bbkgqm6Axa",
        "outputId": "91c989f6-df84-43b9-badb-57e487339c38"
      },
      "execution_count": null,
      "outputs": [
        {
          "output_type": "stream",
          "name": "stdout",
          "text": [
            "Hola mi mundo\n"
          ]
        }
      ]
    },
    {
      "cell_type": "code",
      "source": [
        "#15 - Crea un código que solicite una frase y luego imprima la frase en pantalla.\n",
        "frase=input(\"Hola, serian tan amable de compartir una frase suya ¡¡¡: \")\n",
        "print(f\"\\t{frase}\")"
      ],
      "metadata": {
        "colab": {
          "base_uri": "https://localhost:8080/"
        },
        "id": "JkvFsY016BZV",
        "outputId": "7920ba57-484f-48de-bbd3-2100d651d248"
      },
      "execution_count": null,
      "outputs": [
        {
          "output_type": "stream",
          "name": "stdout",
          "text": [
            "Hola, serian tan amable de compartir una frase suya ¡¡¡: claro, que dia es hoy ?\n",
            "\tclaro, que dia es hoy ?\n"
          ]
        }
      ]
    },
    {
      "cell_type": "code",
      "source": [
        "#16 - Crea un código que solicite una frase al usuario y luego imprima la misma frase ingresada pero en mayúsculas.\n",
        "frase=input(\"Atención, escribeme una frase:\")\n",
        "print(f\"{frase.upper()}\")"
      ],
      "metadata": {
        "colab": {
          "base_uri": "https://localhost:8080/"
        },
        "id": "6RbNc0R9-Y96",
        "outputId": "66a2acc8-35ff-4f62-f7ce-c0b41d575950"
      },
      "execution_count": null,
      "outputs": [
        {
          "output_type": "stream",
          "name": "stdout",
          "text": [
            "Atención, escribeme una frase:Mi tia esta malita\n",
            "MI TIA ESTA MALITA\n"
          ]
        }
      ]
    },
    {
      "cell_type": "code",
      "source": [
        "#17 - Crea un código que solicite una frase al usuario y luego imprima la misma frase ingresada pero en minúsculas.\n",
        "frase=input(\"esta frase de ir en mayusculas:\")\n",
        "print(f\"\\t{frase.lower()}\")"
      ],
      "metadata": {
        "colab": {
          "base_uri": "https://localhost:8080/"
        },
        "id": "Lg1Yd2vB_MGf",
        "outputId": "f07cc14a-4df4-4a1b-c931-3e8d4a1f7c0e"
      },
      "execution_count": null,
      "outputs": [
        {
          "output_type": "stream",
          "name": "stdout",
          "text": [
            "esta frase de ir en mayusculas:SOY ELECTRONICO\n",
            "\tsoy electronico\n"
          ]
        }
      ]
    },
    {
      "cell_type": "code",
      "source": [
        "#18 - Crea una variable llamada \"frase\" y asígnale una cadena de texto de tu elección.\n",
        "#Luego, imprime la frase sin espacios en blanco al principio y al final.\n",
        "frase=\"             En la vida tendremos el tiempo largo para la vejes\"\n",
        "print(f\"\\t{frase.strip()}\")\n",
        "\n"
      ],
      "metadata": {
        "colab": {
          "base_uri": "https://localhost:8080/"
        },
        "id": "hekUV6SHAikT",
        "outputId": "f4e1f5b1-cdb5-48a1-d7cc-5aae3f80718b"
      },
      "execution_count": null,
      "outputs": [
        {
          "output_type": "stream",
          "name": "stdout",
          "text": [
            "\tEn la vida tendremos el tiempo largo para la vejes\n"
          ]
        }
      ]
    },
    {
      "cell_type": "code",
      "source": [
        "#19 - Crea un código que solicite una frase al usuario y luego imprima la misma frase sin espacios en blanco al principio y al final.\n",
        "frase=input(\"Describa la frase correcta:\")\n",
        "print(f\"\\t{frase.strip()}\")"
      ],
      "metadata": {
        "colab": {
          "base_uri": "https://localhost:8080/"
        },
        "id": "9U27ZZb7CMOt",
        "outputId": "57ba712f-41b7-417e-a4b6-35cccf598687"
      },
      "execution_count": null,
      "outputs": [
        {
          "output_type": "stream",
          "name": "stdout",
          "text": [
            "Describa la frase correcta:    frase deb ir a la izquierda\n",
            "\tfrase deb ir a la izquierda\n"
          ]
        }
      ]
    },
    {
      "cell_type": "code",
      "source": [
        "#20 - Crea un código que solicite una frase al usuario y luego imprima la misma frase sin espacios en blanco al principio y al final,\n",
        "# además de convertirla a minúsculas.\n",
        "frase=input(\"Escriba una oración :\")\n",
        "print(f\"\\t{frase.strip().lower()}\")\n"
      ],
      "metadata": {
        "colab": {
          "base_uri": "https://localhost:8080/"
        },
        "id": "gDn_Q1kfDEpp",
        "outputId": "1a15f1b2-ade0-49b8-a663-768e6e07731b"
      },
      "execution_count": null,
      "outputs": [
        {
          "output_type": "stream",
          "name": "stdout",
          "text": [
            "Escriba una oración :                MALA ESCRITURA\n",
            "\tmala escritura\n"
          ]
        }
      ]
    },
    {
      "cell_type": "code",
      "source": [
        "#21 - Crea un código que solicite una frase al usuario y luego imprima la misma frase con todas las vocales \"e\" reemplazadas por la letra \"f\".\n",
        "frase=input(\"Escriba una frase con letras e:\")\n",
        "print(f\"\\t{frase.replace('e','f')}\")\n"
      ],
      "metadata": {
        "colab": {
          "base_uri": "https://localhost:8080/"
        },
        "id": "z_whEHIPDr0X",
        "outputId": "e6251f5b-baea-4e2d-bb87-2b748555502e"
      },
      "execution_count": null,
      "outputs": [
        {
          "output_type": "stream",
          "name": "stdout",
          "text": [
            "Escriba una frase con letras e:el es enano feo y mentiroso\n",
            "\tfl fs fnano ffo y mfntiroso\n"
          ]
        }
      ]
    },
    {
      "cell_type": "code",
      "source": [
        "#22 - Crea un código que solicite una frase al usuario y luego imprima la misma frase con todas las vocales \"a\" reemplazadas por el carácter \"@\".\n",
        "frase=input(\"Escriba una buena oracion:\")\n",
        "print(f\"\\t{frase.replace('a','@')}\")\n"
      ],
      "metadata": {
        "colab": {
          "base_uri": "https://localhost:8080/"
        },
        "id": "r2NrWh-VEXNV",
        "outputId": "3ce8195a-b9f2-4670-fed5-191d80d3448d"
      },
      "execution_count": null,
      "outputs": [
        {
          "output_type": "stream",
          "name": "stdout",
          "text": [
            "Escriba una buena oracion:La odisea de una perrita\n",
            "\tL@ odise@ de un@ perrit@\n"
          ]
        }
      ]
    },
    {
      "cell_type": "code",
      "source": [
        "#23 - Crea un código que solicite una frase al usuario y luego imprima la misma frase con todas las consonantes \"s\" reemplazadas por el carácter \"$\".\n",
        "frase=input(\"Escriba esa oracion:\")\n",
        "print(f\"\\t{frase.replace('s','$')}\")\n"
      ],
      "metadata": {
        "colab": {
          "base_uri": "https://localhost:8080/"
        },
        "id": "yKcYPtivEzL2",
        "outputId": "c82dd46b-40f8-4411-b7b4-03a15a52ca83"
      },
      "execution_count": null,
      "outputs": [
        {
          "output_type": "stream",
          "name": "stdout",
          "text": [
            "Escriba esa oracion:Las Ortencias estan muy secas\n",
            "\tLa$ Ortencia$ e$tan muy $eca$\n"
          ]
        }
      ]
    },
    {
      "cell_type": "code",
      "source": [
        "#1 - Escribe un programa que pida a la persona usuaria que proporcione dos números y muestre el número más grande.\n",
        "num1=int(input(\" Ingresar primer número: \"))\n",
        "num2=int(input(\" Ingresar segundo número: \"))\n",
        "if num1 > num2 :\n",
        "  print(f\"El número mayor es: {num1}\")\n",
        "elif num2 > num1:\n",
        "  print(f\"El número mayor es: {num2}\")\n"
      ],
      "metadata": {
        "id": "2C6fFJO6FYN2",
        "colab": {
          "base_uri": "https://localhost:8080/"
        },
        "outputId": "af90db9d-99f0-43ad-984a-af10c233e040"
      },
      "execution_count": null,
      "outputs": [
        {
          "output_type": "stream",
          "name": "stdout",
          "text": [
            " Ingresar primer número: 8\n",
            " Ingresar segundo número: 9\n",
            "El número mayor es: 9\n"
          ]
        }
      ]
    },
    {
      "cell_type": "code",
      "source": [
        "# prompt: #2 - Escribe un programa que solicite el porcentaje de crecimiento de producción de una empresa\n",
        "# #    e informe si hubo un crecimiento (porcentaje positivo) o una disminución (porcentaje negativo).\n",
        "\n",
        "porcentaje_crecimiento = float(input(\"Ingrese el porcentaje de crecimiento de producción: \"))\n",
        "\n",
        "if porcentaje_crecimiento > 0:\n",
        "    print(\"Hubo un crecimiento del {:.2f}%.\".format(porcentaje_crecimiento))\n",
        "elif porcentaje_crecimiento < 0:\n",
        "    print(\"Hubo una disminución del {:.2f}%.\".format(abs(porcentaje_crecimiento))) #Usamos abs para mostrar el valor positivo\n",
        "else:\n",
        "    print(\"No hubo crecimiento ni disminución.\")\n"
      ],
      "metadata": {
        "colab": {
          "base_uri": "https://localhost:8080/"
        },
        "id": "2z37gWVwMY5j",
        "outputId": "f9894269-53f4-4772-d9fe-9beb8d90317e"
      },
      "execution_count": null,
      "outputs": [
        {
          "output_type": "stream",
          "name": "stdout",
          "text": [
            "Ingrese el porcentaje de crecimiento de producción: -1.12345\n",
            "Hubo una disminución del 1.12%.\n"
          ]
        }
      ]
    },
    {
      "cell_type": "code",
      "source": [
        "#3 - Escribe un programa que determine si una letra proporcionada por la persona usuaria es una vocal o una consonante.\n",
        "usuaria=input(\" Ingrese letras:  \")\n",
        "vocal= \"a,e,i,o,u,A,E,I,O,U\"\n",
        "consonante= \"b,c,d,f,g,h,j,k,l,m,n,ñ,p,q,r,s,t,v,w,x,z,B,C,D,F,G,H,J,K,L,M,N,Ñ,P,Q,R,S,T,V,W,X,Z\"\n",
        "if usuaria in vocal:\n",
        "  print(\"Es una vocal\")\n",
        "elif usuaria in consonante:\n",
        "  print(\"Es una consonante\")\n"
      ],
      "metadata": {
        "colab": {
          "base_uri": "https://localhost:8080/"
        },
        "id": "xxqiXIQvNTYw",
        "outputId": "ea65a7f7-252d-490e-fe57-e86a3552376d"
      },
      "execution_count": null,
      "outputs": [
        {
          "output_type": "stream",
          "name": "stdout",
          "text": [
            " Ingrese letras:  A\n",
            "Es una vocal\n"
          ]
        }
      ]
    },
    {
      "cell_type": "code",
      "source": [
        "#3 - Escribe un programa que determine si una letra proporcionada por la persona usuaria es una vocal o una consonante.\n",
        "letra = input(\"Ingrese una letra: \")\n",
        "\n",
        "if letra.lower() in \"aeiou\":\n",
        "    print(\"Es una vocal.\")\n",
        "elif letra.isalpha() and len(letra) == 1:\n",
        "    print(\"Es una consonante.\")\n",
        "else:\n",
        "    print"
      ],
      "metadata": {
        "colab": {
          "base_uri": "https://localhost:8080/"
        },
        "id": "qDc84S0LQdhH",
        "outputId": "fafa833c-076d-4e06-e216-3f6eb2c90796"
      },
      "execution_count": null,
      "outputs": [
        {
          "output_type": "stream",
          "name": "stdout",
          "text": [
            "Ingrese una letra: A\n",
            "Es una vocal.\n"
          ]
        }
      ]
    },
    {
      "cell_type": "code",
      "source": [
        "#4 - Escribe un programa que lea valores promedio de precios de un modelo de automóvil durante 3 años consecutivos y muestre el valor más alto y más bajo entre esos tres años.\n",
        "promedioaño1=float(input(\" Ingrese el promedio del año 1:\"))\n",
        "promedioaño2=float(input(\" Ingrese el promedio del año 2:\"))\n",
        "promedioaño3=float(input(\" Ingrese el promedio del año 3:\"))\n",
        "if promedioaño1 > promedioaño2 and promedioaño1 > promedioaño3:\n",
        "  print(f\"El valor mas alto es: {promedioaño1}\")\n",
        "elif promedioaño2 > promedioaño1 and promedioaño2 >promedioaño3:\n",
        "  print(f\"El valor mas alto es: {promedioaño2}\")\n",
        "elif promedioaño3 > promedioaño1 and promedioaño3 > promedioaño2:\n",
        "  print(f\"El valor mas alto es: {promedioaño3}\")\n",
        "if promedioaño1 < promedioaño2 and promedioaño1 < promedioaño3:\n",
        "  print(f\"El valor mas bajo es: {promedioaño1}\")\n",
        "elif promedioaño2 < promedioaño1 and promedioaño2 < promedioaño3:\n",
        "  print(f\"El valor mas bajo es: {promedioaño2}\")\n",
        "elif promedioaño3 < promedioaño1 and promedioaño3 < promedioaño2:\n",
        "  print(f\"El valor mas bajo es: {promedioaño3}\")\n",
        "print(\"Los valores estan informados.\")\n"
      ],
      "metadata": {
        "colab": {
          "base_uri": "https://localhost:8080/"
        },
        "id": "x_GUDYwvQ25A",
        "outputId": "0f738cf5-0434-4790-ba78-384372d2c253"
      },
      "execution_count": null,
      "outputs": [
        {
          "output_type": "stream",
          "name": "stdout",
          "text": [
            " Ingrese el promedio del año 1:123\n",
            " Ingrese el promedio del año 2:122\n",
            " Ingrese el promedio del año 3:121\n",
            "El valor mas alto es: 123.0\n",
            "El valor mas bajo es: 121.0\n",
            "Los valores estan informados.\n"
          ]
        }
      ]
    },
    {
      "cell_type": "code",
      "source": [
        "# 5 - Escribe un programa que pregunte sobre el precio de tres productos e indique cuál es el producto más barato para comprar.\n",
        "precio1=float(input(\"Valor del primer producto: \"))\n",
        "precio2=float(input(\"Valor del segundo producto:\"))\n",
        "precio3=float(input(\"Valor del tercer producto:\"))\n",
        "if precio1 < precio2 and precio1 < precio3:\n",
        "  print(f\"El mas barato es: {precio1}\")\n",
        "elif precio2 < precio1 and precio2 < precio3:\n",
        "  print(f\"El mas barato es: {precio2}\")\n",
        "elif precio3 < precio1 and precio3 < precio2:\n",
        "  print(f\"El mas barato es: {precio3}\")\n",
        "print( \"Valores acorde al mercado\")\n"
      ],
      "metadata": {
        "colab": {
          "base_uri": "https://localhost:8080/"
        },
        "id": "cookggIYxxcm",
        "outputId": "76af60f4-3f0e-46b9-ee4c-69c5c92d90b2"
      },
      "execution_count": null,
      "outputs": [
        {
          "output_type": "stream",
          "name": "stdout",
          "text": [
            "Valor del primer producto: 20000\n",
            "Valor del segundo producto:12999\n",
            "Valor del tercer producto:1500\n",
            "El mas barato es: 1500.0\n",
            "Valores acorde al mercado\n"
          ]
        }
      ]
    },
    {
      "cell_type": "code",
      "source": [
        "#6 - Escribe un programa que lea tres números y los muestre en orden descendente.\n",
        "numero0=int(input(\" Escriba el 1er. Número: \"))\n",
        "numero1=int(input(\" Escriba el 2do. Número: \"))\n",
        "numero2=int(input(\" Escriba el 3er. Número: \"))\n",
        "\n",
        "print(f\"Números en orden descendente : \\n{numero2}\\n{numero1}\\n{numero0}\")\n",
        "\n"
      ],
      "metadata": {
        "colab": {
          "base_uri": "https://localhost:8080/"
        },
        "id": "VmFROsmq0kCS",
        "outputId": "8005927b-4e4d-4bf3-9cf3-d324b6d15a3d"
      },
      "execution_count": null,
      "outputs": [
        {
          "output_type": "stream",
          "name": "stdout",
          "text": [
            " Escriba el 1er. Número: 10\n",
            " Escriba el 2do. Número: 11\n",
            " Escriba el 3er. Número: 12\n",
            "Números en orden descendente : \n",
            "12\n",
            "11\n",
            "10\n"
          ]
        }
      ]
    },
    {
      "cell_type": "code",
      "source": [
        "#7 -Escribe un programa que pregunte en qué turno estudia la persona usuaria (\"mañana\", \"tarde\" o \"noche\") y muestre el mensaje \"¡Buenos Días!\", \"¡Buenas Tardes!\", \"¡Buenas Noches!\" o \"Valor Inválido!\", según el caso.\n",
        "turno=input(\"¿En que turno estudia?: \")\n",
        "if turno == \"mañana\" or turno == \" Mañana\" :\n",
        "  print(f\"¡Buenos Días!\")\n",
        "elif turno == \"tarde\" or turno == \"Tarde\" :\n",
        "  print(f\"¡Buenas Tardes!\")\n",
        "elif turno == \"noche\" or turno == \"Noche\" :\n",
        "  print(f\"¡Buenas Noches!\")\n",
        "else:\n",
        "  print(\"Valor Inválido\")"
      ],
      "metadata": {
        "colab": {
          "base_uri": "https://localhost:8080/"
        },
        "id": "MzQ2adbrFTKP",
        "outputId": "0050f8a0-f3bf-4805-9289-642fcb4af312"
      },
      "execution_count": null,
      "outputs": [
        {
          "output_type": "stream",
          "name": "stdout",
          "text": [
            "¿En que turno estudia?: noch\n",
            "Valor Inválido\n"
          ]
        }
      ]
    },
    {
      "cell_type": "code",
      "source": [
        "#8 - Escribe un programa que solicite un número entero a la persona usuaria y determine si es par o impar. Pista: Puedes usar el operador módulo (%).\n",
        "\n",
        "entero=int(input(\"Ingresar número entero:  \"))\n",
        "if entero % 2 == 0:\n",
        "  print(\"El número es par\")\n",
        "else:\n",
        "  print(\"El número es impar\")"
      ],
      "metadata": {
        "colab": {
          "base_uri": "https://localhost:8080/"
        },
        "id": "ikCJQt3LGe_p",
        "outputId": "f9b07671-0890-42ca-d149-3b347c8f8df6"
      },
      "execution_count": null,
      "outputs": [
        {
          "output_type": "stream",
          "name": "stdout",
          "text": [
            "Ingresar número entero:  9\n",
            "El número es impar\n"
          ]
        }
      ]
    },
    {
      "cell_type": "code",
      "source": [
        "#9 - Escribe un programa que pida un número a la persona usuaria y le informe si es entero o decimal.\n",
        "numero = float(input(\"Favor ingresar un número: \")) #Get the input as a float\n",
        "if numero.is_integer(): #Check if the float is an integer\n",
        "  print(\"Número es entero\")\n",
        "else:\n",
        "  print(\"Númro es decimal\")\n"
      ],
      "metadata": {
        "colab": {
          "base_uri": "https://localhost:8080/"
        },
        "id": "itGuXxQbHYJ5",
        "outputId": "df004815-bc32-4be6-a1a9-9e42882057ba"
      },
      "execution_count": null,
      "outputs": [
        {
          "output_type": "stream",
          "name": "stdout",
          "text": [
            "Favor ingresar un número: 5.6789\n",
            "Númro es decimal\n"
          ]
        }
      ]
    },
    {
      "cell_type": "code",
      "source": [
        "# 1.-Recolectamos los números\n",
        "num1 = float(input('Ingrese el primer número: '))\n",
        "num2 = float(input('Ingrese el segundo número: '))\n",
        "# Comparamos ambos números y determinamos cuál es el mayor\n",
        "if num1 > num2:\n",
        "    print(f'El primer número es mayor: {num1}')\n",
        "elif num2 > num1:\n",
        "    print(f'El segundo número es mayor: {num2}')\n",
        "else: # En caso de que los números sean iguales\n",
        "    print('Ambos números son iguales.')\n"
      ],
      "metadata": {
        "id": "5MLBEwClidsR"
      },
      "execution_count": null,
      "outputs": []
    },
    {
      "cell_type": "code",
      "source": [
        "2.-# Recolectamos el porcentaje\n",
        "variación = float(input('Ingrese el porcentaje de crecimiento: ')\n",
        "# Verificamos si el valor es positivo o negativo con una comparación para ver si el número\n",
        "# es mayor o menor que 0\n",
        "if variación > 0:\n",
        "    print(f'Hubo un crecimiento del {variación}%')\n",
        "elif variación < 0:\n",
        "    print(f'Hubo un decrecimiento del {variación}%')\n",
        "else:\n",
        "    print('No hubo crecimiento ni decrecimiento.')\n"
      ],
      "metadata": {
        "id": "sLcuixfSihcM"
      },
      "execution_count": null,
      "outputs": []
    },
    {
      "cell_type": "code",
      "source": [
        "3.-  #Podemos verificar si una letra es una vocal o una consonante al comprobar si el carácter está contenido\n",
        "# en una cadena de vocales utilizando el operador in.\n",
        "# Recolectamos la letra del usuario en minúsculas\n",
        "letra = input('Ingrese una letra: ').lower()\n",
        "vocales = 'aeiou' # cadena que contiene todas las vocales\n",
        "# Verificamos si la letra está en las vocales con `in`\n",
        "if letra in vocales:\n",
        "    print('La letra es una vocal.')\n",
        "else:\n",
        "    print('La letra es una consonante.')\n"
      ],
      "metadata": {
        "id": "XRbo-Nqxit5A"
      },
      "execution_count": null,
      "outputs": []
    },
    {
      "cell_type": "code",
      "source": [
        "#4 - Comparamos cada valor con los otros dos valores correspondientes a los otros dos años y determinamos el valor más alto y el más bajo.\n",
        "#Lo hacemos asignando inicialmente el valor de precio_ano1 como el valor máximo y, si encontramos un valor mayor, actualizamos la variable mayor.\n",
        "#Utilizamos una lógica similar para encontrar el valor mínimo.\n",
        "# Recolectamos los precios de los 3 años\n",
        "precio_ano1 = float(input('Ingrese el precio promedio del automóvil en el primer año: '))\n",
        "precio_ano2 = float(input('Ingrese el precio promedio del automóvil en el segundo año: '))\n",
        "precio_ano3 = float(input('Ingrese el precio promedio del automóvil en el tercer año: '))\n",
        "# Determinamos el valor más alto mediante comparaciones\n",
        "mayor = precio_ano1\n",
        "if precio_ano2 > mayor:\n",
        "  mayor = precio_ano2\n",
        "if precio_ano3 > mayor:\n",
        "  mayor = precio_ano3\n",
        "# Determinamos el valor más bajo mediante comparaciones\n",
        "menor = precio_ano1\n",
        "if precio_ano2 < menor:\n",
        "  menor = precio_ano2\n",
        "if precio_ano3 < menor:\n",
        "  menor = precio_ano3\n",
        "# Mostramos los resultados\n",
        "print(f'El precio más alto fue de R$ {mayor}.')\n",
        "print(f'El precio más bajo fue de R$ {menor}.')\n"
      ],
      "metadata": {
        "id": "szJEGmLBi-Di",
        "colab": {
          "base_uri": "https://localhost:8080/"
        },
        "outputId": "bd07aef6-603c-4767-8f58-6e187fd5186e"
      },
      "execution_count": null,
      "outputs": [
        {
          "output_type": "stream",
          "name": "stdout",
          "text": [
            "Ingrese el precio promedio del automóvil en el primer año: 8900\n",
            "Ingrese el precio promedio del automóvil en el segundo año: 8700\n",
            "Ingrese el precio promedio del automóvil en el tercer año: 6700\n",
            "El precio más alto fue de R$ 8900.0.\n",
            "El precio más bajo fue de R$ 6700.0.\n"
          ]
        }
      ]
    },
    {
      "cell_type": "code",
      "source": [
        "#5.- Recolectamos el precio de tres productos\n",
        "producto1 = float(input('Ingrese el precio del primer producto: '))\n",
        "producto2 = float(input('Ingrese el precio del segundo producto: '))\n",
        "producto3 = float(input('Ingrese el precio del tercer producto: '))\n",
        "\n",
        "# Usamos el operador lógico `and` para determinar cuál es el precio más bajo entre los 3 productos\n",
        "# ya que esto nos permite hacer una comparación de 3 entradas\n",
        "if producto1 < producto2 and producto1 < producto3:\n",
        "    print('El primer producto es el más barato.')\n",
        "elif producto2 < producto1 and producto2 < producto3:\n",
        "    print('El segundo producto es el más barato.')\n",
        "else:\n",
        "    print('El tercer producto es el más barato.')\n"
      ],
      "metadata": {
        "id": "a364mQ5Qi-g1",
        "colab": {
          "base_uri": "https://localhost:8080/"
        },
        "outputId": "3c2a4ccd-7573-4b6a-c3d0-cb54f75c9520"
      },
      "execution_count": 24,
      "outputs": [
        {
          "output_type": "stream",
          "name": "stdout",
          "text": [
            "Ingrese el precio del primer producto: 45\n",
            "Ingrese el precio del segundo producto: 67\n",
            "Ingrese el precio del tercer producto: 45\n",
            "El tercer producto es el más barato.\n"
          ]
        }
      ]
    },
    {
      "cell_type": "code",
      "source": [
        "#6.-Después de recolectar los 3 números, realizamos comparaciones siguiendo una lógica similar a la pregunta anterior.\n",
        "#Utilizamos el operador lógico and para determinar cuál es el número más grande entre los 3 datos de productos,\n",
        "#luego verificamos entre los dos más pequeños y finalmente utilizamos print para mostrar los números en orden descendente mediante varias declaraciones\n",
        "# condicionales anidadas.\n",
        "# Recolectamos los 3 números\n",
        "num1 = int(input('Ingrese el primer número: '))\n",
        "num2 = int(input('Ingrese el segundo número: '))\n",
        "num3 = int(input('Ingrese el tercer número: '))\n",
        "\n",
        "# Comparación entre los 3 números\n",
        "if (num1 >= num2) and (num1 >= num3):\n",
        "    print(num1)\n",
        "    if num2 >= num3:\n",
        "        print(num2)\n",
        "        print(num3)\n",
        "    else:\n",
        "        print(num3)\n",
        "        print(num2)\n",
        "elif (num2 >= num1) and (num2 >= num3):\n",
        "    print(num2)\n",
        "    if num1 >= num3:\n",
        "        print(num1)\n",
        "        print(num3)\n",
        "    else:\n",
        "        print(num3)\n",
        "        print(num1)\n",
        "else:\n",
        "    print(num3)\n",
        "    if num1 >= num2:\n",
        "        print(num1)\n",
        "        print(num2)\n",
        "    else:\n",
        "        print(num2)\n",
        "        print(num1)\n"
      ],
      "metadata": {
        "id": "N7lTKJT8i_HV",
        "colab": {
          "base_uri": "https://localhost:8080/"
        },
        "outputId": "7fc20b3c-2786-44ed-9c85-250451dbee2a"
      },
      "execution_count": null,
      "outputs": [
        {
          "output_type": "stream",
          "name": "stdout",
          "text": [
            "Ingrese el primer número: 3\n",
            "Ingrese el segundo número: 4\n",
            "Ingrese el tercer número: 5\n",
            "5\n",
            "4\n",
            "3\n"
          ]
        }
      ]
    },
    {
      "cell_type": "code",
      "source": [
        "#7.-Recolectamos el turno de estudio\n",
        "turno = input('Ingresa en qué turno estudias (mañana, tarde o noche): ')\n",
        "\n",
        "# Comparamos la entrada con todas las opciones y mostramos el resultado.\n",
        "if turno == 'mañana':\n",
        "  print('¡Buenos Días!')\n",
        "elif turno == 'tarde':\n",
        "  print('¡Buenas Tardes!')\n",
        "elif turno == 'noche':\n",
        "  print('¡Buenas Noches!')\n",
        "else:\n",
        "  print('¡Valor Inválido!')\n"
      ],
      "metadata": {
        "colab": {
          "base_uri": "https://localhost:8080/"
        },
        "id": "5YdqHES-i_bs",
        "outputId": "f7953155-b27d-4690-f495-adc892f8fe28"
      },
      "execution_count": null,
      "outputs": [
        {
          "output_type": "stream",
          "name": "stdout",
          "text": [
            "Ingresa en qué turno estudias (mañana, tarde o noche): noche\n",
            "¡Buenas Noches!\n"
          ]
        }
      ]
    },
    {
      "cell_type": "code",
      "source": [
        "'''\n",
        "8.- Podemos usar el operador de módulo % para determinar si un número es par o impar.\n",
        "Si la división entera de un número entre 2 da como resultado 0, entonces es par.\n",
        "Si no, es impar. Esto se debe a que todos los números pares son divisibles por 2, por lo que no tienen un residuo en la división.\n",
        "'''\n",
        "# Recolectamos los datos\n",
        "num = int(input('Ingresa un número: '))\n",
        "\n",
        "# Verificamos si el número es par según el resultado del módulo\n",
        "if num % 2 == 0:\n",
        "    print('El número es par.')\n",
        "else:\n",
        "    print('El número es impar.')\n"
      ],
      "metadata": {
        "id": "r-Gx7vK5i_vs"
      },
      "execution_count": null,
      "outputs": []
    },
    {
      "cell_type": "code",
      "source": [
        "'''\n",
        "9 - Podemos usar el operador de módulo % para determinar si un número es entero o decimal. Si el operador de módulo % devuelve cero en la división entera de un número entre 1, entonces es un número entero.\n",
        "De lo contrario, es un número decimal.\n",
        "'''\n",
        "# Recolectamos los datos\n",
        "num = float(input('Ingresa un número: '))\n",
        "# Verificamos si el número es entero o decimal según el resultado del módulo\n",
        "si num % 1 == 0:\n",
        "    print('El número es entero.')\n",
        "else:\n",
        "    print('El número es decimal.')\n"
      ],
      "metadata": {
        "id": "81lK5RkcjACA"
      },
      "execution_count": null,
      "outputs": []
    },
    {
      "cell_type": "code",
      "source": [
        "'''\n",
        "10 - Un programa debe ser escrito para leer dos números y luego preguntar a la persona usuaria qué operación desea realizar.\n",
        "El resultado de la operación debe incluir información sobre el número, si es par o impar, positivo o negativo, e entero o decimal.\n",
        "'''\n",
        "#Solicitando datos y realizando consulta.\n",
        "primer_num=float(input(\"Escribir primer número: \"))\n",
        "segun_num=float(input(\"Escribir segundo número: \"))\n",
        "consulta=input(\"¿Que operación necesita realizar?:\")\n",
        "#creando operacones\n",
        "suma=primer_num+segun_num\n",
        "resta=primer_num-segun_num\n",
        "multiplicacion=primer_num*segun_num\n",
        "division=primer_num/segun_num\n",
        "\n",
        "#imprimiendo eleccion de operacion y resultado de numero\n",
        "if consulta in (\"suma\",\"resta\",\"multiplicacion\",\"division\"):\n",
        "\n",
        "  resultado=0\n",
        "  if consulta==\"suma\":\n",
        "    resultado = suma\n",
        "  elif consulta==\"resta\":\n",
        "    resultado = resta\n",
        "  elif consulta==\"multiplicacion\":\n",
        "    resultado =multiplicacion\n",
        "  elif consulta==\"division\":\n",
        "    resultado =division\n",
        "  print(f\"El numero total es: {resultado}\")\n",
        "\n",
        "# verificando si es par, impar,positivo, negativo, entero o decimal\n",
        "\n",
        "  if resultado % 2 == 0:\n",
        "    print(\"El resultado es: Par\")\n",
        "  else:\n",
        "    print(\"El resultado es: Impar\")\n",
        "  if resultado > 0:\n",
        "    print(\"El resultado es: Positivo\")\n",
        "  else:\n",
        "    print(\"El resultado es: Negativo\")\n",
        "  if resultado % 1 == 0:\n",
        "    print(\"El resultado es: Entero\")\n",
        "  else:\n",
        "    print(\"El resultado es: Decimal\")\n",
        "else:\n",
        "  print(\"Fin del Flujo\")\n",
        "  print(\"Solicite nueva operación\")\n",
        "\n",
        "\n"
      ],
      "metadata": {
        "colab": {
          "base_uri": "https://localhost:8080/"
        },
        "id": "diU5XW16kLxy",
        "outputId": "bb0d5b7c-5ef5-4b1f-9ef9-8a518367c54e"
      },
      "execution_count": null,
      "outputs": [
        {
          "output_type": "stream",
          "name": "stdout",
          "text": [
            "Escribir primer número: 44\n",
            "Escribir segundo número: 44\n",
            "¿Que operación necesita realizar?:multiplicacion\n",
            "El numero total es: 1936.0\n",
            "El resultado es: Par\n",
            "El resultado es: Positivo\n",
            "El resultado es: Entero\n"
          ]
        }
      ]
    },
    {
      "cell_type": "code",
      "source": [
        "# Recolectamos los números a operar y solicitamos la operación deseada por el usuario\n",
        "num1 = float(input('Ingrese el primer número: '))\n",
        "num2 = float(input('Ingrese el segundo número: '))\n",
        "operación = input('Ingrese la operación deseada (+, -, *, /): ')\n",
        "\n",
        "# Verificamos la operación seleccionada y realizamos la operación matemática según la elección\n",
        "if operación == '+':\n",
        "    resultado = num1 + num2\n",
        "elif operación == '-':\n",
        "    resultado = num1 - num2\n",
        "elif operación == '*':\n",
        "    resultado = num1 * num2\n",
        "elif operación == '/':\n",
        "    resultado = num1 / num2\n",
        "else: # Especificamos un resultado en caso de que el usuario no ingrese una de las operaciones correctamente.\n",
        "    print('Operación no válida, el resultado de la operación será 0')\n",
        "    resultado = 0\n",
        "\n",
        "# Realizamos las mismas verificaciones que en preguntas anteriores para generar el informe del cálculo entre números\n",
        "if resultado % 1 == 0:\n",
        "    print('El resultado es un número entero.')\n",
        "else:\n",
        "    print('El resultado es un número decimal.')\n",
        "\n",
        "if resultado > 0:\n",
        "    print('El resultado es positivo.')\n",
        "else:\n",
        "    print('El resultado es negativo.')\n",
        "\n",
        "if resultado % 2 == 0:\n",
        "    print('El resultado es un número par.')\n",
        "else:\n",
        "    print('El resultado es un número impar.')\n"
      ],
      "metadata": {
        "id": "z8JTq-j5kMKK",
        "colab": {
          "base_uri": "https://localhost:8080/"
        },
        "outputId": "fbcfa8e4-fe3b-4ff9-8e9c-4fc887a43bbf"
      },
      "execution_count": null,
      "outputs": [
        {
          "output_type": "stream",
          "name": "stdout",
          "text": [
            "Ingrese el primer número: 6\n",
            "Ingrese el segundo número: 8\n",
            "Ingrese la operación deseada (+, -, *, /): *\n",
            "El resultado es un número entero.\n",
            "El resultado es positivo.\n",
            "El resultado es un número par.\n"
          ]
        }
      ]
    },
    {
      "cell_type": "code",
      "source": [
        "'''\n",
        "11 - Después de recolectar los valores de los 3 lados de un triángulo, debemos verificar si realmente pueden formar un triángulo siguiendo el consejo\n",
        "\"Tres lados forman un triángulo cuando la suma de cualquier par de lados es mayor que el tercer lado\".\n",
        "Esta verificación se puede realizar con el operador \"and\".   Luego, podemos verificar si todos los lados son iguales, lo que forma un triángulo equilátero,\n",
        "o si todos los lados son diferentes,lo que forma un triángulo escaleno.\n",
        "Estas verificaciones se pueden realizar con el operador \"and\" y los operadores \"== y \"! =\". Finalmente, utilizamos \"else\" para el caso de un triángulo isósceles.\n",
        "'''\n",
        "# Recolectamos los lados del triángulo\n",
        "lado1=float(input(\"Ingrese lado 1: \"))\n",
        "lado2=float(input(\"Ingrese lado 2: \"))\n",
        "lado3=float(input(\"Ingrese lado 3: \"))\n",
        "\n",
        "#suma de lados: tres lados forman un triangulo cuando a suma de cualquier par de lafos es mayor que e tercero.\n",
        "\n",
        "if lado1+lado2>lado3 and lado1+lado3>lado2 and lado2+lado3>lado1:\n",
        "  print(\"Se puede formar un triangulo\")\n",
        "else:\n",
        "  print(\"No se puede formar un triangulo\")\n",
        "\n",
        "#Verificando lados igualeso desiguales.\n",
        "if lado1==lado2 and lado1==lado3 and lado2==lado3:\n",
        "  print(\"Triangulo es Equilatero\")\n",
        "elif lado1!=lado2 and lado2!=lado3 and lado1!=lado3:\n",
        "  print(\"Triangulo es Escaleno\")\n",
        "elif lado1==lado2 or lado1==lado3:\n",
        "  print(\"Triangulo es Isosceles\")\n"
      ],
      "metadata": {
        "id": "mSC5TrTzkMc6",
        "colab": {
          "base_uri": "https://localhost:8080/"
        },
        "outputId": "fd7927ad-3c1b-4512-f990-270960324033"
      },
      "execution_count": null,
      "outputs": [
        {
          "output_type": "stream",
          "name": "stdout",
          "text": [
            "Ingrese lado 1: 2.35\n",
            "Ingrese lado 2: 2.35\n",
            "Ingrese lado 3: 1.35\n",
            "Se puede formar un triangulo\n",
            "Triangulo es Isosceles\n"
          ]
        }
      ]
    },
    {
      "cell_type": "code",
      "source": [
        "\n",
        "\n",
        "if lado1 + lado2 > lado3 and lado1 + lado3 > lado2 and lado2 + lado3 > lado1:\n",
        "    print(\"Se puede formar un triángulo\")\n",
        "    if lado1 == lado2 and lado1 == lado3:\n",
        "        print(\"El triángulo es Equilátero\")\n",
        "    elif lado1 != lado2 and lado2 != lado3 and lado1 != lado3:\n",
        "        print(\"El triángulo es Escaleno\")\n",
        "    else:\n",
        "        print(\"El triángulo es Isósceles\")\n",
        "else:\n",
        "    print(\"No se puede formar un triángulo\")\n",
        "\n"
      ],
      "metadata": {
        "colab": {
          "base_uri": "https://localhost:8080/",
          "height": 216
        },
        "id": "TQNkwWw6i9Hd",
        "outputId": "685b26a1-1a57-4cb4-eda3-2e22e51d4ada"
      },
      "execution_count": 45,
      "outputs": [
        {
          "output_type": "error",
          "ename": "NameError",
          "evalue": "name 'lado1' is not defined",
          "traceback": [
            "\u001b[0;31m---------------------------------------------------------------------------\u001b[0m",
            "\u001b[0;31mNameError\u001b[0m                                 Traceback (most recent call last)",
            "\u001b[0;32m<ipython-input-45-43c45d3880f0>\u001b[0m in \u001b[0;36m<cell line: 0>\u001b[0;34m()\u001b[0m\n\u001b[0;32m----> 1\u001b[0;31m \u001b[0;32mif\u001b[0m \u001b[0mlado1\u001b[0m \u001b[0;34m+\u001b[0m \u001b[0mlado2\u001b[0m \u001b[0;34m>\u001b[0m \u001b[0mlado3\u001b[0m \u001b[0;32mand\u001b[0m \u001b[0mlado1\u001b[0m \u001b[0;34m+\u001b[0m \u001b[0mlado3\u001b[0m \u001b[0;34m>\u001b[0m \u001b[0mlado2\u001b[0m \u001b[0;32mand\u001b[0m \u001b[0mlado2\u001b[0m \u001b[0;34m+\u001b[0m \u001b[0mlado3\u001b[0m \u001b[0;34m>\u001b[0m \u001b[0mlado1\u001b[0m\u001b[0;34m:\u001b[0m\u001b[0;34m\u001b[0m\u001b[0;34m\u001b[0m\u001b[0m\n\u001b[0m\u001b[1;32m      2\u001b[0m     \u001b[0mprint\u001b[0m\u001b[0;34m(\u001b[0m\u001b[0;34m\"Se puede formar un triángulo\"\u001b[0m\u001b[0;34m)\u001b[0m\u001b[0;34m\u001b[0m\u001b[0;34m\u001b[0m\u001b[0m\n\u001b[1;32m      3\u001b[0m     \u001b[0;32mif\u001b[0m \u001b[0mlado1\u001b[0m \u001b[0;34m==\u001b[0m \u001b[0mlado2\u001b[0m \u001b[0;32mand\u001b[0m \u001b[0mlado1\u001b[0m \u001b[0;34m==\u001b[0m \u001b[0mlado3\u001b[0m\u001b[0;34m:\u001b[0m\u001b[0;34m\u001b[0m\u001b[0;34m\u001b[0m\u001b[0m\n\u001b[1;32m      4\u001b[0m         \u001b[0mprint\u001b[0m\u001b[0;34m(\u001b[0m\u001b[0;34m\"El triángulo es Equilátero\"\u001b[0m\u001b[0;34m)\u001b[0m\u001b[0;34m\u001b[0m\u001b[0;34m\u001b[0m\u001b[0m\n\u001b[1;32m      5\u001b[0m     \u001b[0;32melif\u001b[0m \u001b[0mlado1\u001b[0m \u001b[0;34m!=\u001b[0m \u001b[0mlado2\u001b[0m \u001b[0;32mand\u001b[0m \u001b[0mlado2\u001b[0m \u001b[0;34m!=\u001b[0m \u001b[0mlado3\u001b[0m \u001b[0;32mand\u001b[0m \u001b[0mlado1\u001b[0m \u001b[0;34m!=\u001b[0m \u001b[0mlado3\u001b[0m\u001b[0;34m:\u001b[0m\u001b[0;34m\u001b[0m\u001b[0;34m\u001b[0m\u001b[0m\n",
            "\u001b[0;31mNameError\u001b[0m: name 'lado1' is not defined"
          ]
        }
      ]
    },
    {
      "cell_type": "code",
      "source": [
        "from ast import keyword\n",
        "'''\n",
        "12 - Un establecimiento está vendiendo combustibles con descuentos variables.\n",
        " Para el etanol, si la cantidad comprada es de hasta 15 litros, el descuento será del 2% por litro. En caso contrario, será del 4% por litro.\n",
        " Para el diésel, si la cantidad comprada es de hasta 15 litros, el descuento será del 3% por litro. En caso contrario, será del 5% por litro.\n",
        " El precio por litro de diésel es de R$ 2,00 y el precio por litro de etanol es de R$ 1,70.\n",
        " Escribe un programa que lea la cantidad de litros vendidos y el tipo de combustible (E para etanol y D para diésel) y calcule el valor a pagar por el cliente. Ten en cuenta algunas sugerencias:\n",
        "  El valor del descuento será el producto del precio por litro, la cantidad de litros y el valor del descuento.\n",
        "  El valor a pagar por un cliente será el resultado de la multiplicación del precio por litro por la cantidad de litros\n",
        "  menos el valor del descuento resultante del cálculo.\n",
        "'''\n",
        "# Generando consultas de tipo de combustible e informacion de valores.\n",
        "print(\"¡Bienvenidos a combustibles Zhumioke!\")\n",
        "print(f\"Escriba:\\nE para Etanol\\nD para diesél\")\n",
        "print(\"El precio por litro de diésel es de R$ 2,00\")\n",
        "print(\"El precio por litro de etanol es de R$ 1,70\")\n",
        "combustible=input(\"Elija combustible a comprar: \")\n",
        "\n",
        "if combustible == \"E\" or combustible == \"D\":\n",
        "  litros=float(input(\"Ingrese cantidad de litros: \"))\n",
        "  if combustible == \"E\" and litros <= 15:\n",
        "    print(\"Usted tiene un descuento del 2%\")\n",
        "  elif combustible == \"E\" and litros > 15:\n",
        "    print(\"Usted tiene un descuento del 4%\")\n",
        "  elif combustible ==\"D\" and litros <= 15:\n",
        "    print(\"Usted tiene un descuento del 3%\")\n",
        "  elif combustible == \"D\" and litros > 15:\n",
        "    print(\"Usted tiene un descuento del 5%\")\n",
        "  #Realizando los calculos de pecios.\n",
        "  if combustible == \"E\" and litros <= 15 :\n",
        "    vd=litros*1.70*0.02\n",
        "    vp=litros*1.70-vd\n",
        "    print(f\"El valor a pagar es: {vp:.1f}\")\n",
        "  elif combustible == \"E\" and litros > 15:\n",
        "    vd=litros*1.70*0.04\n",
        "    vp=litros*1.70-vd\n",
        "    print(f\"El valor a pagar es: {vp:.1f}\")\n",
        "\n",
        "  if combustible == \"D\" and litros <= 15 :\n",
        "    vd=litros*2.00*0.03\n",
        "    vp=litros*2.00-vd\n",
        "    print(f\"El valor a pagar es: {vp:.1f}\")\n",
        "  elif combustible == \"D\" and litros > 15:\n",
        "    vd=litros*2.00*0.05\n",
        "    vp=litros*2.00-vd\n",
        "    print(f\"El valor a pagar es: {vp:.1f}\")\n",
        "  print(\"Gracias por su compra\")\n",
        "else:\n",
        "  print(\"Ingresar combustible correcto.\")\n",
        "  keyword\n",
        "\n"
      ],
      "metadata": {
        "id": "4ziy4y5KkMy_",
        "colab": {
          "base_uri": "https://localhost:8080/"
        },
        "outputId": "b3064902-b68a-4f7c-aea4-ff08263ce215"
      },
      "execution_count": 48,
      "outputs": [
        {
          "output_type": "stream",
          "name": "stdout",
          "text": [
            "¡Bienvenidos a combustibles Zhumioke!\n",
            "Escriba:\n",
            "E para Etanol\n",
            "D para diesél\n",
            "El precio por litro de diésel es de R$ 2,00\n",
            "El precio por litro de etanol es de R$ 1,70\n",
            "Elija combustible a comprar: e\n",
            "Ingresar combustible correcto.\n"
          ]
        }
      ]
    },
    {
      "cell_type": "code",
      "source": [
        "'''\n",
        "13.-En una empresa de venta de bienes raíces, debes crear un código que analice los datos de ventas anuales para ayudar a la dirección en la toma de decisiones.\n",
        " El código debe recopilar los datos de cantidad de ventas durante los años 2022 y 2023 y calcular la variación porcentual.\n",
        " A partir del valor de la variación, se deben proporcionar las siguientes sugerencias:\n",
        "\n",
        "    Para una variación superior al 20%: bonificación para el equipo de ventas.\n",
        "    Para una variación entre el 2% y el 20%: pequeña bonificación para el equipo de ventas.\n",
        "    Para una variación entre el 2% y el -10%: planificación de políticas de incentivo a las ventas.\n",
        "    Para bonificaciones inferiores al -10%: recorte de gastos.\n",
        "'''\n",
        "# Recopilando datos.\n",
        "v_2022=float(input(\"Ingresar ventas del año 2022: \"))\n",
        "v_2023=float(input(\"Ingresar ventas del año 2023: \"))\n",
        "#calcular variacion porcentual.\n",
        "varpor=(v_2023-v_2022)/v_2022*100\n",
        "print(f\"La Varición Porcentual fue : {varpor:.2f} %\")\n",
        "\n",
        "if varpor > 20:\n",
        "  print(\"Bonificación para el equipo de ventas\")\n",
        "elif varpor >= 2 and varpor <= 20:\n",
        "  print(\"Pequeña bonificación para el equipo de ventas\")\n",
        "elif varpor < 2 and varpor >= -10:\n",
        "  print(\"Planificación de politicas de incentivo a las ventas\")\n",
        "elif varpor < -10:\n",
        "  print(\"Recorte de gastos\")\n",
        "else:\n",
        "  print(\"No hay bonificaciones\")\n",
        "\n",
        "\n",
        "\n",
        "\n"
      ],
      "metadata": {
        "id": "OF-ChFo6kNE6",
        "colab": {
          "base_uri": "https://localhost:8080/"
        },
        "outputId": "c7b67856-cf02-480c-fcbb-9a07a4669491"
      },
      "execution_count": 84,
      "outputs": [
        {
          "output_type": "stream",
          "name": "stdout",
          "text": [
            "Ingresar ventas del año 2022: 10\n",
            "Ingresar ventas del año 2023: 2\n",
            "La Varición Porcentual fue : -80.00 %\n",
            "Recorte de gastos\n"
          ]
        }
      ]
    },
    {
      "cell_type": "code",
      "source": [],
      "metadata": {
        "id": "IXqAUMiokNW7"
      },
      "execution_count": null,
      "outputs": []
    },
    {
      "cell_type": "code",
      "source": [],
      "metadata": {
        "id": "t2I-G1oDkNo2"
      },
      "execution_count": null,
      "outputs": []
    }
  ]
}